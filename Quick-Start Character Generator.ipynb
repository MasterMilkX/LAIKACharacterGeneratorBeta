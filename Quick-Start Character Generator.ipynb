{
 "cells": [
  {
   "cell_type": "markdown",
   "id": "c295960a",
   "metadata": {},
   "source": [
    "### Character Generator Tester\n",
    "Just hit \"Kernel > Restart and Run All\", wait 20 seconds, then scroll to the bottom to create your own prompts and character descriptions!\n",
    "\n",
    "---"
   ]
  },
  {
   "cell_type": "code",
   "execution_count": 1,
   "id": "6cda4d34",
   "metadata": {},
   "outputs": [
    {
     "name": "stdout",
     "output_type": "stream",
     "text": [
      "+++ IMPORTING TRANSFORMER BRAIN +++\n",
      "+++ IMPORTING HOLY GRAIL TRAITS +++\n",
      "> imported sentence encoder model!\n"
     ]
    },
    {
     "name": "stderr",
     "output_type": "stream",
     "text": [
      "100%|██████████| 7/7 [00:01<00:00,  6.02it/s]\n"
     ]
    },
    {
     "name": "stdout",
     "output_type": "stream",
     "text": [
      "> imported and encoded traits for ['astro', 'adj', 'dark_mbti', 'hexaco', 'mbti', 'tt_flaws', 'wattpad']!\n",
      "+++ IMPORTING MAD LIBS TRAITS +++\n",
      "> imported sentence encoder model!\n",
      "> importing and encoding: NOUN\n",
      "> importing and encoding: PNOUN\n",
      "> importing and encoding: ADJ\n",
      "> importing and encoding: PADJ\n",
      "> importing and encoding: VERB\n",
      "> importing and encoding: ANOUN\n",
      "> importing and encoding: EVERB\n"
     ]
    }
   ],
   "source": [
    "# import libraries and files\n",
    "from quick_gpt import QuickGPT\n",
    "import quick_ner as NER\n",
    "import blurb_gen as BlurGen\n",
    "from ngrams_model import NGramGen\n",
    "from holy_grail_traits import HolyGrailTraits\n",
    "from mad_libs_traits import MadLibsTraits\n",
    "import re\n",
    "import random\n",
    "import math\n",
    "import numpy as np\n",
    "\n",
    "# import the brains\n",
    "print(\"+++ IMPORTING TRANSFORMER BRAIN +++\")\n",
    "char_brain = QuickGPT(model_type='gpt2-medium',corpus=\"character_corpuses/character_descriptions_spark_GENERIC.txt\")\n",
    "\n",
    "#astro_brain = NGramGen(\"character_corpuses/character_descriptions_astrology_CLEAN3.txt\",4)\n",
    "\n",
    "print(\"+++ IMPORTING HOLY GRAIL TRAITS +++\")\n",
    "hg_traits = HolyGrailTraits()\n",
    "\n",
    "print(\"+++ IMPORTING MAD LIBS TRAITS +++\")\n",
    "ml_traits = MadLibsTraits()"
   ]
  },
  {
   "cell_type": "code",
   "execution_count": 2,
   "id": "40ad3db0",
   "metadata": {},
   "outputs": [],
   "source": [
    "# generate a character description using the brain with the generic replacements (cuts off before a new desc is given)\n",
    "def gengenCharDesc(txt,n=5):\n",
    "    global char_brain\n",
    "    d_set = char_brain.gen_txt(txt,{'max_new_tokens':70,\"num_return_sequences\":n,'top_k':4, \"repetition_penalty\":1})\n",
    "    \n",
    "    #parse the set\n",
    "    new_d_set = [d.split(\"--\")[0] for d in d_set]\n",
    "    \n",
    "    #replace the generic placeholders\n",
    "    new_d2_set = [NER.replaceGeneric(d,txt) for d in new_d_set]\n",
    "    \n",
    "    #remove stragglers just in case\n",
    "    new_d3_set = [re.sub(\"#(X|Y)\\_?([0-9]+)?#?\",\"\",d) for d in new_d2_set]\n",
    "    \n",
    "    return new_d_set, new_d3_set\n",
    "\n",
    "def genAstroDesc(txt,n=7,s=3,tr=(6,12)):\n",
    "    # generate a set\n",
    "    a_set = [astro_brain.generate() for i in range(n)]\n",
    "    a_set2 = [[x] for x in a_set if len(x.split(\" \")) in range(tr[0],tr[1])]\n",
    "    \n",
    "    #cluster by relavence to the original prompt (like the W2V bullet grouping)\n",
    "    best_astro, removed = BlurGen.getBestBlurbs(txt,a_set2,math.ceil(s/2),math.floor(s/2))  #get the top S(+1?) blurbs (S/2 ceil closest, S/2 floor furthest)\n",
    "    \n",
    "    return best_astro, removed\n",
    "    "
   ]
  },
  {
   "cell_type": "code",
   "execution_count": null,
   "id": "150b862f",
   "metadata": {},
   "outputs": [
    {
     "name": "stdout",
     "output_type": "stream",
     "text": [
      "NOTE: Add '-- [NAME] --' at the end to get a specific character's description, or one will randomly be picked.\n",
      "Ex. 'Alice fell down a rabbit hole. -- Alice --'\n",
      "********************************************\n",
      "\n",
      "Which mode type would you like?\n",
      " - full (default) : generates a paragraph backstory/spoiler description\n",
      " - blurb : generates bullet point descriptions\n",
      " - grail : selects related traits from scraped websites (shown in distinct emoji bullets)\n",
      " - madlib : short templative character summaries\n",
      "\n",
      "madlib\n",
      "********************************************\n",
      "\n",
      "Tell a story: Far beyond the celestial star X-39742 lurked the spaceship Abenteuer. Nobody had heard from the ship in decades. So in the year 3422, when the communication arrays began blinking with urgent mayday signals from the craft, Captain Victor was perplexed. Perplexed, and unnerved.\n"
     ]
    },
    {
     "name": "stderr",
     "output_type": "stream",
     "text": [
      "Setting `pad_token_id` to `eos_token_id`:50256 for open-end generation.\n"
     ]
    },
    {
     "name": "stdout",
     "output_type": "stream",
     "text": [
      "-- Victor --\n",
      "- a supercilious astronomer\n",
      "- a frank astronaut naming professors\n",
      "- a conscientious sailor\n",
      "\n",
      "- a̶ ̶p̶a̶t̶e̶r̶n̶a̶l̶ ̶f̶a̶m̶i̶l̶i̶a̶l̶ ̶n̶o̶v̶e̶l̶i̶s̶t̶\n",
      "- a̶ ̶m̶e̶d̶d̶l̶e̶s̶o̶m̶e̶ ̶a̶u̶t̶h̶o̶r̶ ̶b̶o̶b̶i̶n̶g̶ ̶u̶n̶c̶l̶e̶s̶\n",
      "- a̶n̶ ̶e̶a̶s̶y̶-̶g̶o̶i̶n̶g̶ ̶j̶e̶s̶t̶e̶r̶ ̶w̶h̶o̶ ̶s̶p̶o̶i̶l̶s̶ ̶c̶o̶u̶s̶i̶n̶s̶\n",
      "- a̶ ̶m̶e̶d̶d̶l̶e̶s̶o̶m̶e̶ ̶c̶a̶b̶ ̶d̶r̶i̶v̶e̶r̶ ̶w̶h̶o̶ ̶v̶e̶n̶t̶u̶r̶e̶s̶ ̶s̶i̶s̶t̶e̶r̶s̶\n",
      "- a̶ ̶s̶t̶o̶i̶c̶ ̶m̶e̶e̶k̶ ̶a̶u̶t̶h̶o̶r̶\n",
      "- a̶ ̶c̶o̶u̶r̶a̶g̶e̶o̶u̶s̶ ̶g̶a̶l̶l̶a̶n̶t̶ ̶a̶u̶t̶h̶o̶r̶ ̶a̶n̶d̶ ̶e̶n̶i̶g̶m̶a̶t̶i̶c̶ ̶l̶i̶b̶r̶e̶t̶t̶i̶s̶t̶\n",
      "- a̶ ̶c̶o̶m̶p̶o̶s̶e̶d̶ ̶n̶o̶v̶e̶l̶i̶s̶t̶ ̶s̶p̶o̶i̶l̶i̶n̶g̶ ̶o̶w̶n̶e̶r̶s̶\n",
      "- a̶ ̶s̶h̶o̶r̶t̶-̶t̶e̶m̶p̶e̶r̶e̶d̶ ̶r̶e̶v̶e̶r̶e̶n̶t̶i̶a̶l̶ ̶w̶r̶i̶t̶e̶r̶\n",
      "- a̶n̶ ̶u̶n̶c̶e̶r̶t̶a̶i̶n̶ ̶m̶u̶r̶a̶l̶i̶s̶t̶ ̶w̶h̶o̶ ̶a̶p̶p̶e̶a̶r̶s̶ ̶a̶p̶p̶e̶a̶r̶a̶n̶c̶e̶s̶\n",
      "- a̶n̶ ̶u̶n̶c̶e̶r̶t̶a̶i̶n̶ ̶g̶a̶l̶l̶a̶n̶t̶ ̶a̶r̶t̶i̶s̶t̶\n",
      "- a̶ ̶c̶o̶u̶r̶a̶g̶e̶o̶u̶s̶ ̶a̶c̶t̶o̶r̶ ̶r̶e̶i̶g̶n̶i̶n̶g̶ ̶s̶t̶y̶l̶e̶s̶\n",
      "- a̶ ̶f̶r̶a̶n̶k̶ ̶a̶c̶t̶o̶r̶ ̶w̶h̶o̶ ̶c̶o̶m̶b̶s̶ ̶s̶i̶n̶g̶e̶r̶s̶\n",
      "- a̶ ̶s̶t̶o̶i̶c̶ ̶p̶o̶s̶s̶e̶s̶s̶i̶v̶e̶ ̶r̶e̶p̶o̶r̶t̶e̶r̶\n",
      "- a̶ ̶c̶o̶u̶r̶a̶g̶e̶o̶u̶s̶ ̶g̶a̶l̶l̶a̶n̶t̶ ̶r̶e̶p̶o̶r̶t̶e̶r̶ ̶a̶n̶d̶ ̶f̶i̶g̶h̶t̶e̶r̶ ̶n̶o̶v̶e̶l̶i̶s̶t̶\n",
      "- a̶ ̶s̶t̶o̶i̶c̶ ̶l̶i̶b̶r̶e̶t̶t̶i̶s̶t̶ ̶b̶a̶t̶t̶l̶i̶n̶g̶ ̶t̶a̶l̶e̶s̶\n",
      "- a̶ ̶f̶r̶a̶n̶k̶ ̶n̶o̶v̶e̶l̶i̶s̶t̶ ̶w̶h̶o̶ ̶n̶a̶m̶e̶s̶ ̶s̶o̶n̶s̶\n",
      "- a̶ ̶c̶o̶n̶s̶c̶i̶e̶n̶t̶i̶o̶u̶s̶ ̶i̶n̶v̶e̶n̶t̶o̶r̶\n",
      "\n",
      "------------------------------------------------------------\n",
      "\n"
     ]
    }
   ],
   "source": [
    "print(\"NOTE: Add '-- [NAME] --' at the end to get a specific character's description, or one will randomly be picked.\\nEx. 'Alice fell down a rabbit hole. -- Alice --'\\n********************************************\\n\")\n",
    "MODE_TYPE = input(\"Which mode type would you like?\\n - full (default) : generates a paragraph backstory/spoiler description\\n - blurb : generates bullet point descriptions\\n - grail : selects related traits from scraped websites (shown in distinct emoji bullets)\\n - madlib : short templative character summaries\\n\\n\")\n",
    "print(\"********************************************\\n\")\n",
    "\n",
    "\n",
    "# infinite loop\n",
    "while True:\n",
    "    user_prompt = input(\"Tell a story: \")\n",
    "    \n",
    "    # break loop\n",
    "    if user_prompt == \"exit\":\n",
    "        break\n",
    "\n",
    "    # select a random character if not given one\n",
    "    if \"--\" not in user_prompt:\n",
    "        all_names = NER.getCharacters(user_prompt)\n",
    "        if len(all_names) == 0:\n",
    "            all_names = NER.getProperNouns(user_prompt)\n",
    "        if len(all_names) == 0: \n",
    "            print(\"ERROR: No character names found... Try capitalizing them!\")\n",
    "            continue\n",
    "    \n",
    "        name_pick = f\"-- {random.choice(all_names)} --\"\n",
    "        user_prompt += f\"\\n{name_pick}\"\n",
    "        print(name_pick)\n",
    "\n",
    "    # generate descriptions\n",
    "    max_prompts = 3 if MODE_TYPE == \"grail\" else 5\n",
    "    _, descs = gengenCharDesc(user_prompt,max_prompts)\n",
    "    \n",
    "    #bullet point mode\n",
    "    if MODE_TYPE == \"blurb\":\n",
    "        bullets = []\n",
    "        # add all blurbs\n",
    "        for d in descs:\n",
    "            bpt = BlurGen.bulletPointText(d)\n",
    "            bullets += [(NER.descPostProc(user_prompt,x)) for x in bpt]  #replace any repeated instances of MC name\n",
    "\n",
    "        blurb_groups = BlurGen.group_blurbs_W2V(bullets,0.4)        #cluster blurbs together\n",
    "        best_blurbs, rem_blurb = BlurGen.getBestBlurbs(user_prompt,blurb_groups,4,3)  #get the top 7 blurbs (4 closest, 3 furthest)\n",
    "            \n",
    "#         # Create astrology descriptions (show them first)\n",
    "#         ads, rem_ads = genAstroDesc(user_prompt,n=100,s=5)\n",
    "#         for a in ads:\n",
    "#             print(f\"⭐️ {a}\")\n",
    "#         for a in rem_ads[:5]:\n",
    "#             print(f\"⭐️ {BlurGen.strike(a)}\")\n",
    "#         print(\"\")\n",
    " \n",
    "        # show regular blurbs extracted\n",
    "        for b in best_blurbs:\n",
    "            print(f\"- {b}\")\n",
    "        for b in rem_blurb:\n",
    "            print(f\"- {BlurGen.strike(b)}\")\n",
    "            \n",
    "    elif MODE_TYPE == \"grail\":\n",
    "        best_traits, bad_traits = hg_traits.bestTraits(user_prompt,descs,3)\n",
    "        \n",
    "        for bet in best_traits:\n",
    "            print(bet)\n",
    "        print(\"\")\n",
    "        for bat in bad_traits:\n",
    "            print(BlurGen.strike(bat))\n",
    "            \n",
    "    elif MODE_TYPE == \"madlib\":\n",
    "        best_traits, bad_traits = ml_traits.bestTraits(user_prompt,descs,3)\n",
    "        \n",
    "        for bet in best_traits:\n",
    "            print(f\"- {bet}\")\n",
    "        print(\"\")\n",
    "        for bat in bad_traits:\n",
    "            print(f\"- {BlurGen.strike(bat)}\")\n",
    "            \n",
    "    \n",
    "    # full bio mode\n",
    "    else:\n",
    "        for i in range(len(descs)):\n",
    "            print(f\"> {descs[i]}\\n\")\n",
    "            print()\n",
    "    print(\"\\n------------------------------------------------------------\\n\")"
   ]
  },
  {
   "cell_type": "markdown",
   "id": "b6109ab3",
   "metadata": {},
   "source": [
    "---"
   ]
  },
  {
   "cell_type": "markdown",
   "id": "0167a173",
   "metadata": {},
   "source": [
    "**Milk's copypasta**: \n",
    "\n",
    "Alice fell down a rabbit hole. Which was not surprising - as she had been heavily drinking at her friend Hatter's bar: the Spilled Teapot. But tonight was a special occasion. She had just graduated with her degree in philosophy.\n",
    "\n",
    "Nat and Ash slept in a crashed space shuttle on the Moon. Ash did contracting work as an engineer fixing up the locals' gadgets, while Nat was a hoverboard pizza delivery robot.\n",
    "\n",
    "Deep in the forests of Abaluria, a troupe of bandits waited to ambush Maron, the high prince of Denetir. The leader of the bandits was a fierce woman. She was named Peka after the local plant that grew rough and wild and dragged men beneath the surface of the earth. She was doing a great job of living up to her name.\n",
    "\n",
    "Far beyond the celestial star X-39742 lurked the spaceship *Abenteuer*. Nobody had heard from the ship in decades. So in the year 3422, when the communication arrays began blinking with urgent mayday signals from the craft, Captain Victor was perplexed. Perplexed, and unnerved.\n",
    "\n",
    "Jenny sat eagerly by the phone. After their date at the *Ristorante Calafanti* Marco had told her he would call at 7pm on the dot. Well, now it was 6.58pm and her whole body was tense, fingers hovering over the receiver. The minutes ticked past. 6.59pm. 7pm. 7.01pm. When the phone finally rang, Jenny snatched it up “Hello… oh… hi, Grandma.”\n",
    "\n",
    "Niamh had always lived in Cashel. She knew the seasons like the back of her hand. She knew the name of each sheep and the bark of each dog. At 84 years of age, she was still sharp as a needle, and nothing much got past her narrowed eyes. Which was why, when Daithi O’Shea walked down Main Street in the middle of the night, Niamh knew exactly where he had been. And what he had been up to.\n",
    "\n",
    "Tammy knew she wasn’t allowed to visit the abandoned house at the edge of the village of Centaury. She heard the adults whispering about it at the back of church on Sundays. Willa’s mother said it was full of junkies, “and… worse”, and Father Jeremy nodded along. But Tammy wouldn’t be swayed. Centaury was safe, after all, wasn’t it?\n",
    "\n",
    "Detective Sergeant Fanshaw surveyed the evidence with a grim expression on her face. Blood, check. Weapon, check. Victims? Check, check, check, and check. The whole Savoy family lay there at her feet: Jimmy, Sara, Jimmy Junior and Betty. A quadruple homicide in Gewgaw Manor. And it was only Monday."
   ]
  },
  {
   "cell_type": "code",
   "execution_count": null,
   "id": "8142780e",
   "metadata": {},
   "outputs": [],
   "source": []
  }
 ],
 "metadata": {
  "kernelspec": {
   "display_name": "Python 3 (ipykernel)",
   "language": "python",
   "name": "python3"
  },
  "language_info": {
   "codemirror_mode": {
    "name": "ipython",
    "version": 3
   },
   "file_extension": ".py",
   "mimetype": "text/x-python",
   "name": "python",
   "nbconvert_exporter": "python",
   "pygments_lexer": "ipython3",
   "version": "3.8.10"
  }
 },
 "nbformat": 4,
 "nbformat_minor": 5
}
